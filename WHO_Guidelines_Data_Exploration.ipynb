{
  "nbformat": 4,
  "nbformat_minor": 0,
  "metadata": {
    "kernelspec": {
      "display_name": "Python 3",
      "language": "python",
      "name": "python3"
    },
    "language_info": {
      "codemirror_mode": {
        "name": "ipython",
        "version": 3
      },
      "file_extension": ".py",
      "mimetype": "text/x-python",
      "name": "python",
      "nbconvert_exporter": "python",
      "pygments_lexer": "ipython3",
      "version": "3.7.6"
    },
    "colab": {
      "name": "WHO_Guidelines_Data_Exploration.ipynb",
      "provenance": [],
      "collapsed_sections": [],
      "include_colab_link": true
    }
  },
  "cells": [
    {
      "cell_type": "markdown",
      "metadata": {
        "id": "view-in-github",
        "colab_type": "text"
      },
      "source": [
        "<a href=\"https://colab.research.google.com/github/AnkitRajSri/Effects-of-Lockdown-on-Mental-Health/blob/master/WHO_Guidelines_Data_Exploration.ipynb\" target=\"_parent\"><img src=\"https://colab.research.google.com/assets/colab-badge.svg\" alt=\"Open In Colab\"/></a>"
      ]
    },
    {
      "cell_type": "markdown",
      "metadata": {
        "id": "6yY9xc-pYZJp",
        "colab_type": "text"
      },
      "source": [
        "### Data Sourcing and Preparation"
      ]
    },
    {
      "cell_type": "code",
      "metadata": {
        "id": "VaeMx8TR0BlS",
        "colab_type": "code",
        "outputId": "7127263f-e53a-466a-d43a-7dc262c709d1",
        "colab": {
          "base_uri": "https://localhost:8080/",
          "height": 84
        }
      },
      "source": [
        "import pandas as pd\n",
        "import numpy as np\n",
        "import re\n",
        "import nltk\n",
        "nltk.download('stopwords')\n",
        "nltk.download('wordnet')\n",
        "import textract"
      ],
      "execution_count": 0,
      "outputs": [
        {
          "output_type": "stream",
          "text": [
            "[nltk_data] Downloading package stopwords to /root/nltk_data...\n",
            "[nltk_data]   Package stopwords is already up-to-date!\n",
            "[nltk_data] Downloading package wordnet to /root/nltk_data...\n",
            "[nltk_data]   Package wordnet is already up-to-date!\n"
          ],
          "name": "stdout"
        }
      ]
    },
    {
      "cell_type": "code",
      "metadata": {
        "id": "xoi6rkMq0BlV",
        "colab_type": "code",
        "outputId": "60c34212-3189-4d76-f5e2-30c5b781ebb8",
        "colab": {
          "base_uri": "https://localhost:8080/",
          "height": 54
        }
      },
      "source": [
        "#read the content of pdf as text\n",
        "text = textract.process('mental-health-considerations.pdf')\n",
        "#use numeric points as paragraph delimiter to convert the text into list of paragraphs.\n",
        "print(text)"
      ],
      "execution_count": 0,
      "outputs": [
        {
          "output_type": "stream",
          "text": [
            "b' \\n \\nMental health and psychosocial considerations during the \\nCOVID-19 outbreak  \\n \\n18 March 2020  \\n \\nIn January 2020 the World Health Organization (WHO) declared the outbreak of a new coronavirus \\ndisease, COVID-19, to be a Public Health Emergency of International Concern. WHO stated that \\nthere is a high risk of COVID-19 spreading to other countries around the world. In March 2020, \\nWHO made the assessment that COVID-19 can be characterized as a pandemic. \\n \\nWHO and public health authorities around the world are acting to contain the COVID-19 outbreak. \\nHowever, this time of crisis is generating stress throughout the population. The considerations \\npresented in this document have been developed by the WHO Department of Mental Health and \\nSubstance Use as a series of messages that can be used in communications to support mental and \\npsychosocial well-being in different target groups during the outbreak. \\n \\nMessages for the general population \\n \\n1. COVID-19 has and is likely to affect people from many countries, in many geographical locations. \\nWhen referring to people with COVID-19, do not attach the disease to any particular ethnicity or \\nnationality. Be empathetic to all those who are affected, in and from any country. People who are \\naffected by COVID-19 have not done anything wrong, and they deserve our support, compassion \\nand kindness. \\n \\n2. Do not refer to people with the disease as \\xe2\\x80\\x9cCOVID-19 cases\\xe2\\x80\\x9d, \\xe2\\x80\\x9cvictims\\xe2\\x80\\x9d \\xe2\\x80\\x9cCOVID-19 families\\xe2\\x80\\x9d or \\n\\xe2\\x80\\x9cthe diseased\\xe2\\x80\\x9d. They are \\xe2\\x80\\x9cpeople who have COVID-19\\xe2\\x80\\x9d, \\xe2\\x80\\x9cpeople who are being treated for \\nCOVID-19\\xe2\\x80\\x9d, or \\xe2\\x80\\x9cpeople who are recovering from COVID-19\\xe2\\x80\\x9d, and after recovering from COVID-19 \\ntheir life will go on with their jobs, families and loved ones. It is important to separate a person \\nfrom having an identity defined by COVID-19, in order to reduce stigma. \\n \\n3. Minimize watching, reading or listening to news about COVID-19 that causes you to feel anxious \\nor distressed; seek information only from trusted sources and mainly so that you can take practical \\nsteps to prepare your plans and protect yourself and loved ones. Seek information updates at \\nspecific times during the day, once or twice. The sudden and near-constant stream of news reports \\nabout an outbreak can cause anyone to feel worried. Get the facts; not rumours and \\nmisinformation. Gather information at regular intervals from the WHO website and local health \\nauthority platforms in order to help you distinguish facts from rumours. Facts can help to minimize \\nfears. \\n\\n \\n\\n-1- \\n\\n\\x0c \\n \\n4. Protect yourself and be supportive to others. Assisting others in their time of need can benefit \\nboth the person receiving support and the helper. For example, check by telephone on neighbours \\nor people in your community who may need some extra assistance. Working together as one \\ncommunity can help to create solidarity in addressing COVID-19 together. \\n \\n5. Find opportunities to amplify positive and hopeful stories and positive images of local people who \\nhave experienced COVID-19. For example, stories of people who have recovered or who have supported \\na loved one and are willing to share their experience. \\n \\n6. Honour carers and healthcare workers supporting people affected with COVID-19 in your \\ncommunity. Acknowledge the role they play in saving lives and keeping your loved ones safe. \\n \\nMessages for healthcare workers \\n \\n7. Feeling under pressure is a likely experience for you and many of your colleagues. It is quite \\nnormal to be feeling this way in the current situation. Stress and the feelings associated with it are \\nby no means a reflection that you cannot do your job or that you are weak. Managing your mental \\nhealth and psychosocial well-being during this time is as important as managing your physical \\nhealth. \\n \\n8. Take care of yourself at this time. Try and use helpful coping strategies such as ensuring sufficient \\nrest and respite during work or between shifts, eat sufficient and healthy food, engage in physical \\nactivity, and stay in contact with family and friends. Avoid using unhelpful coping strategies such as \\nuse of tobacco, alcohol or other drugs. In the long term, these can worsen your mental and physical \\nwell-being. The COVID-19 outbreak is a unique and unprecedented scenario for many workers, \\nparticularly if they have not been involved in similar responses. Even so, using strategies that have \\nworked for you in the past to manage times of stress can benefit you now. You are the person most \\nlikely to know how you can de-stress and you should not be hesitant in keeping yourself \\npsychologically well. This is not a sprint; it\\xe2\\x80\\x99s a marathon. \\n \\n9. Some healthcare workers may unfortunately experience avoidance by their family or community \\nowing to stigma or fear. This can make an already challenging situation far more difficult. If possible, \\nstaying connected with your loved ones, including through digital methods, is one way to maintain \\ncontact. Turn to your colleagues, your manager or other trusted persons for social support \\xe2\\x80\\x93 your \\ncolleagues may be having similar experiences to you. \\n \\n10. Use understandable ways to share messages with people with intellectual, cognitive and \\npsychosocial disabilities. Where possible, include forms of communication that do not rely solely on \\nwritten information. \\n \\n\\n \\n\\n-2- \\n\\n\\x0c \\n11. Know how to provide support to people who are affected by COVID-19 and know how to link \\nthem with available resources. This is especially important for those who require mental health and \\npsychosocial support. The stigma associated with mental health problems may cause reluctance to \\nseek support for both COVID-19 and mental health conditions. The mhGAP Humanitarian \\nIntervention Guide includes clinical guidance for addressing priority mental health conditions and is \\ndesigned for use by general healthcare workers. \\n \\nMessages for team leaders or managers in health facilities \\n \\n12. Keeping all staff protected from chronic stress and poor mental health during this response means \\nthat they will have a better capacity to fulfil their roles. Be sure to keep in mind that the current \\nsituation will not go away overnight and you should focus on longer-term occupational capacity \\nrather than repeated short-term crisis responses. \\n \\n13. Ensure that good quality communication and accurate information updates are provided to all \\nstaff. Rotate workers from higher-stress to lower-stress functions. Partner inexperienced workers \\nwith their more experienced colleagues. The buddy system helps to provide support, monitor stress \\nand reinforce safety procedures. Ensure that outreach personnel enter the community in pairs. \\nInitiate, encourage and monitor work breaks. Implement flexible schedules for workers who are \\ndirectly impacted or have a family member affected by a stressful event. Ensure that you build in \\ntime for colleagues to provide social support to each other. \\n \\n14. Ensure that staff are aware of where and how they can access mental health and psychosocial \\nsupport services and facilitate access to such services. Managers and team leaders are facing similar \\nstresses to their staff and may experience additional pressure relating to the responsibilities of their \\nrole. It is important that the above provisions and strategies are in place for both workers and \\nmanagers, and that managers can be role-models for self-care strategies to mitigate stress. \\n \\n15. Orient all responders, including nurses, ambulance drivers, volunteers, case identifiers, teachers \\nand community leaders and workers in quarantine sites, on how to provide basic emotional and \\npractical support to affected people using psychological first aid. \\n \\n16.  Manage  urgent  mental  health  and  neurological  complaints  (e.g.  delirium,  psychosis,  severe \\nanxiety or depression) within emergency or general healthcare facilities. Appropriate  trained  and \\nqualified staff may need to be deployed to these locations when time permits, and the capacity of \\ngeneral  healthcare  staff  capacity  to  provide  mental  health  and  psychosocial  support  should  be \\nincreased (see the mhGAP Humanitarian Intervention Guide). \\n \\n17.  Ensure  availability  of  essential,  generic  psychotropic  medications  at  all  levels  of  health  care. \\nPeople living with long-term mental health conditions or epileptic seizures will need uninterrupted \\naccess to their medication, and sudden discontinuation should be avoided. \\n \\n\\n \\n\\n-3- \\n\\n\\x0c \\nMessages for carers of children \\n \\n18. Help children find positive ways to express feelings such as fear and sadness. Every child has his \\nor her own way of expressing emotions. Sometimes engaging in a creative activity, such as playing \\nor drawing can facilitate this process. Children feel relieved if they can express and communicate \\ntheir feelings in a safe and supportive environment. \\n \\n19. Keep children close to their parents and family, if considered safe, and avoid separating children \\nand their careers as much as possible. If a child needs to be separated from his or her primary carer, \\nensure that appropriate alternative care is provided and that a social worker or equivalent will \\nregularly follow up on the child. Further, ensure that during periods of separation, regular contact \\nwith parents and carers is maintained, such as twice-daily scheduled telephone or video calls or \\nother age-appropriate communication (e.g. social media). \\n \\n20. Maintain familiar routines in daily life as much as possible, or create new routines, especially if \\nchildren must stay at home. Provide engaging age-appropriate activities for children, including \\nactivities for their learning. Where possible, encourage children to continue to play and socialize \\nwith others, even if only within the family when advised to restrict social contact. \\n \\n21. During times of stress and crisis, it is common for children to seek more attachment and be \\nmore demanding on parents. Discuss COVID-19 with your children in an honest and age-appropriate \\nway. If your children have concerns, addressing them together may ease their anxiety. Children will \\nobserve adults\\xe2\\x80\\x99 behaviours and emotions for cues on how to manage their own emotions during \\ndifficult times. Additional advice is available here. \\n \\nMessages for older adults, people with underlying health conditions and their carers \\n \\n22. Older adults, especially in isolation and those with cognitive decline/dementia, may become \\nmore anxious, angry, stressed, agitated  and withdrawn during the outbreak or while in quarantine. \\nProvide practical and emotional support through informal networks (families) and health \\nprofessionals. \\n \\n23. Share simple facts about what is going on and give clear information about how to reduce risk of \\ninfection in words older people with/without cognitive impairment can understand. Repeat the \\ninformation whenever necessary. Instructions need to be communicated in a clear, concise, \\nrespectful and patient way. It may also be helpful for information to be displayed in writing or \\npictures. Engage family members and other support networks in providing information and helping \\npeople to practise prevention measures (e.g. handwashing, etc.). \\n \\n24. If you have an underlying health condition, make sure to have access to any medications that \\nyou are currently using. Activate your social contacts to provide you with assistance, if needed.  \\n \\n\\n \\n\\n-4- \\n\\n\\x0c \\n25. Be prepared and know in advance where and how to get practical help if needed, like calling a \\ntaxi, having food delivered and requesting medical care. Make sure you have up to two weeks of all \\nyour regular medicines that you may require. \\n \\n26. Learn simple daily physical exercises to perform at home, in quarantine or isolation so you can \\nmaintain mobility and reduce boredom. \\n \\n27. Keep regular routines and schedules as much as possible or help create new ones in a new \\nenvironment, including regular exercising, cleaning, daily chores, singing, painting or other \\nactivities. Keep in regular contact with loved ones (e.g. via telephone, e-mail, social media or video \\nconference). \\n\\nMessages for people in isolation \\n \\n28. Stay connected and maintain your social networks. Try as much as possible to keep your \\npersonal daily routines or create new routines if circumstances change. If health authorities have \\nrecommended limiting your physical social contact to contain the outbreak, you can stay connected \\nvia telephone, e-mail, social media or video conference. \\n \\n29. During times of stress, pay attention to your own needs and feelings. Engage in healthy \\nactivities that you enjoy and find relaxing. Exercise regularly, keep regular sleep routines and eat \\nhealthy food. Keep things in perspective. Public health agencies and experts in all countries are \\nworking on the outbreak to ensure the availability of the best care to those affected  \\n \\n30. A near-constant stream of news reports about an outbreak can cause anyone to feel anxious or \\ndistressed. Seek information updates and practical guidance at specific times during the day from \\nhealth professionals and WHO website and avoid listening to or following rumours that make you \\nfeel uncomfortable. \\n \\n\\n \\n\\n \\n\\n-5- \\n\\n\\x0c \\n \\nStay informed \\n \\nFind the latest information from WHO on where COVID-19 is spreading:  \\nhttps://www.who.int/emergencies/diseases/novel-coronavirus-2019/situation-reports/ \\n \\nAdvice and guidance from WHO on COVID-19 : \\nhttps://www.who.int/emergencies/diseases/novel-coronavirus-2019  \\nhttps://www.epi-win.com/ \\n\\nAddressing social stigma: \\n\\nhttps://www.epi-win.com/sites/epiwin/files/content/attachments/2020-02-\\n24/COVID19%20Stigma%20Guide%2024022020_1.pdf \\n\\nBriefing note on addressing mental health and psychosocial aspects of COVID-19: \\n\\nhttps://interagencystandingcommittee.org/other/interim-briefing-note-addressing-mental-health-and-\\npsychosocial-aspects-covid-19-outbreak \\n\\n \\n\\n \\n\\n \\n\\n \\n\\n\\xc2\\xa9 World Health Organization 2020. Some rights reserved. This work is available under the CC BY-NC-SA \\n3.0 IGO licence. \\n\\n \\n\\n \\n\\n \\n\\n \\n\\n \\n\\n \\n\\n \\n\\n \\n\\nWHO reference number:  WHO/2019-nCoV/MentalHealth/2020.1 \\n\\n \\n\\n-6- \\n\\n\\x0c'\n"
          ],
          "name": "stdout"
        }
      ]
    },
    {
      "cell_type": "code",
      "metadata": {
        "id": "tdCbkxoU0BlZ",
        "colab_type": "code",
        "outputId": "02755c8d-cce0-498a-fb43-39178133ad7c",
        "colab": {
          "base_uri": "https://localhost:8080/",
          "height": 195
        }
      },
      "source": [
        "pdf_data = pd.DataFrame(re.split('[0-9]\\.+', text.decode('utf-8')))\n",
        "pdf_data = pdf_data.loc[1:31, ]\n",
        "message = pdf_data.loc[5:6,].values[0] + '. ' + pdf_data.loc[5:6,].values[1]\n",
        "pdf_data.loc[5,] = message\n",
        "pdf_data = pdf_data.drop([6]).reset_index()\n",
        "pdf_data = pdf_data.drop(['index'], axis = 1)\n",
        "pdf_data.head()"
      ],
      "execution_count": 0,
      "outputs": [
        {
          "output_type": "execute_result",
          "data": {
            "text/html": [
              "<div>\n",
              "<style scoped>\n",
              "    .dataframe tbody tr th:only-of-type {\n",
              "        vertical-align: middle;\n",
              "    }\n",
              "\n",
              "    .dataframe tbody tr th {\n",
              "        vertical-align: top;\n",
              "    }\n",
              "\n",
              "    .dataframe thead th {\n",
              "        text-align: right;\n",
              "    }\n",
              "</style>\n",
              "<table border=\"1\" class=\"dataframe\">\n",
              "  <thead>\n",
              "    <tr style=\"text-align: right;\">\n",
              "      <th></th>\n",
              "      <th>0</th>\n",
              "    </tr>\n",
              "  </thead>\n",
              "  <tbody>\n",
              "    <tr>\n",
              "      <th>0</th>\n",
              "      <td>COVID-19 has and is likely to affect people f...</td>\n",
              "    </tr>\n",
              "    <tr>\n",
              "      <th>1</th>\n",
              "      <td>Do not refer to people with the disease as “C...</td>\n",
              "    </tr>\n",
              "    <tr>\n",
              "      <th>2</th>\n",
              "      <td>Minimize watching, reading or listening to ne...</td>\n",
              "    </tr>\n",
              "    <tr>\n",
              "      <th>3</th>\n",
              "      <td>Protect yourself and be supportive to others....</td>\n",
              "    </tr>\n",
              "    <tr>\n",
              "      <th>4</th>\n",
              "      <td>Find opportunities to amplify positive and ho...</td>\n",
              "    </tr>\n",
              "  </tbody>\n",
              "</table>\n",
              "</div>"
            ],
            "text/plain": [
              "                                                   0\n",
              "0   COVID-19 has and is likely to affect people f...\n",
              "1   Do not refer to people with the disease as “C...\n",
              "2   Minimize watching, reading or listening to ne...\n",
              "3   Protect yourself and be supportive to others....\n",
              "4   Find opportunities to amplify positive and ho..."
            ]
          },
          "metadata": {
            "tags": []
          },
          "execution_count": 143
        }
      ]
    },
    {
      "cell_type": "code",
      "metadata": {
        "id": "zBu37WX10Blc",
        "colab_type": "code",
        "outputId": "2fbffa9f-83b6-4cd3-c8fd-85c9f28572ad",
        "colab": {
          "base_uri": "https://localhost:8080/",
          "height": 195
        }
      },
      "source": [
        "pdf_data.columns = ['WHO_message']\n",
        "pdf_data.loc[0:5, 'concerned_individuals'] = 'General Population'\n",
        "pdf_data.loc[6:10, 'concerned_individuals'] = 'Healthcare Workers'\n",
        "pdf_data.loc[11:16, 'concerned_individuals'] = 'Team Leaders/Managers in Health Facilities'\n",
        "pdf_data.loc[17:20, 'concerned_individuals'] = 'Carers of Children'\n",
        "pdf_data.loc[21:26, 'concerned_individuals'] = 'Older Adults/People with underlying health conditions/Carers'\n",
        "pdf_data.loc[27:29, 'concerned_individuals'] = 'People in isolation'\n",
        "pdf_data.head()"
      ],
      "execution_count": 0,
      "outputs": [
        {
          "output_type": "execute_result",
          "data": {
            "text/html": [
              "<div>\n",
              "<style scoped>\n",
              "    .dataframe tbody tr th:only-of-type {\n",
              "        vertical-align: middle;\n",
              "    }\n",
              "\n",
              "    .dataframe tbody tr th {\n",
              "        vertical-align: top;\n",
              "    }\n",
              "\n",
              "    .dataframe thead th {\n",
              "        text-align: right;\n",
              "    }\n",
              "</style>\n",
              "<table border=\"1\" class=\"dataframe\">\n",
              "  <thead>\n",
              "    <tr style=\"text-align: right;\">\n",
              "      <th></th>\n",
              "      <th>WHO_message</th>\n",
              "      <th>concerned_individuals</th>\n",
              "    </tr>\n",
              "  </thead>\n",
              "  <tbody>\n",
              "    <tr>\n",
              "      <th>0</th>\n",
              "      <td>COVID-19 has and is likely to affect people f...</td>\n",
              "      <td>General Population</td>\n",
              "    </tr>\n",
              "    <tr>\n",
              "      <th>1</th>\n",
              "      <td>Do not refer to people with the disease as “C...</td>\n",
              "      <td>General Population</td>\n",
              "    </tr>\n",
              "    <tr>\n",
              "      <th>2</th>\n",
              "      <td>Minimize watching, reading or listening to ne...</td>\n",
              "      <td>General Population</td>\n",
              "    </tr>\n",
              "    <tr>\n",
              "      <th>3</th>\n",
              "      <td>Protect yourself and be supportive to others....</td>\n",
              "      <td>General Population</td>\n",
              "    </tr>\n",
              "    <tr>\n",
              "      <th>4</th>\n",
              "      <td>Find opportunities to amplify positive and ho...</td>\n",
              "      <td>General Population</td>\n",
              "    </tr>\n",
              "  </tbody>\n",
              "</table>\n",
              "</div>"
            ],
            "text/plain": [
              "                                         WHO_message concerned_individuals\n",
              "0   COVID-19 has and is likely to affect people f...    General Population\n",
              "1   Do not refer to people with the disease as “C...    General Population\n",
              "2   Minimize watching, reading or listening to ne...    General Population\n",
              "3   Protect yourself and be supportive to others....    General Population\n",
              "4   Find opportunities to amplify positive and ho...    General Population"
            ]
          },
          "metadata": {
            "tags": []
          },
          "execution_count": 144
        }
      ]
    },
    {
      "cell_type": "markdown",
      "metadata": {
        "id": "5FZIqtnhbV2K",
        "colab_type": "text"
      },
      "source": [
        "### Data Preprocessing"
      ]
    },
    {
      "cell_type": "code",
      "metadata": {
        "id": "M6xFs63W0Ble",
        "colab_type": "code",
        "colab": {}
      },
      "source": [
        "from nltk.tokenize import regexp_tokenize\n",
        "from nltk.corpus import stopwords\n",
        "from nltk.stem import WordNetLemmatizer\n",
        "import re\n",
        "from string import punctuation\n",
        "\n",
        "stopwords = stopwords.words('english')\n",
        "stopwords.extend(['covid', 'covid-19', 'covid 19', 'coronavirus', 'outbreak', 'pandemic'])\n",
        "word_lemmatizer = WordNetLemmatizer()\n",
        "\n",
        "def cleanText(text):\n",
        "    text = re.sub(r'\\w+:\\/{2}[\\d\\w-]+(\\.[\\d\\w-]+)*(?:(?:\\/[^\\s/]*))*', '', text)\n",
        "    words = regexp_tokenize(text.lower(), r'[A-Za-z]+')\n",
        "    words = [w for w in words if len(w) > 1 and w != 'rt' and w not in stopwords]\n",
        "    words = [word_lemmatizer.lemmatize(w) for w in words]\n",
        "    cleaned_text = ' '.join(words)\n",
        "    return cleaned_text"
      ],
      "execution_count": 0,
      "outputs": []
    },
    {
      "cell_type": "code",
      "metadata": {
        "id": "YrE8wWIU0Blh",
        "colab_type": "code",
        "outputId": "878570f8-6f70-4ee1-8646-923aec36e457",
        "colab": {
          "base_uri": "https://localhost:8080/",
          "height": 54
        }
      },
      "source": [
        "pdf_data['cleaned_message'] = pdf_data['WHO_message'].apply(lambda x : cleanText(x))\n",
        "pdf_data.loc[29, 'cleaned_message'] = re.sub('stay informed find latest information covid spreading advice guidance covid addressing social stigma', '', pdf_data.loc[29, 'cleaned_message'])\n",
        "pdf_data.loc[29, 'cleaned_message']"
      ],
      "execution_count": 0,
      "outputs": [
        {
          "output_type": "execute_result",
          "data": {
            "text/plain": [
              "'near constant stream news report cause anyone feel anxious distressed seek information update practical guidance specific time day health professional website avoid listening following rumour make feel uncomfortable stay informed find latest information spreading advice guidance addressing social stigma stigma guide'"
            ]
          },
          "metadata": {
            "tags": []
          },
          "execution_count": 146
        }
      ]
    },
    {
      "cell_type": "code",
      "metadata": {
        "id": "tRN6vVOq0Blj",
        "colab_type": "code",
        "outputId": "16839520-3cf6-4136-857b-7359c092ee3c",
        "colab": {
          "base_uri": "https://localhost:8080/",
          "height": 402
        }
      },
      "source": [
        "grouped_pdf_data = pdf_data.groupby('concerned_individuals')\n",
        "grouped_pdf_data.head(2)"
      ],
      "execution_count": 0,
      "outputs": [
        {
          "output_type": "execute_result",
          "data": {
            "text/html": [
              "<div>\n",
              "<style scoped>\n",
              "    .dataframe tbody tr th:only-of-type {\n",
              "        vertical-align: middle;\n",
              "    }\n",
              "\n",
              "    .dataframe tbody tr th {\n",
              "        vertical-align: top;\n",
              "    }\n",
              "\n",
              "    .dataframe thead th {\n",
              "        text-align: right;\n",
              "    }\n",
              "</style>\n",
              "<table border=\"1\" class=\"dataframe\">\n",
              "  <thead>\n",
              "    <tr style=\"text-align: right;\">\n",
              "      <th></th>\n",
              "      <th>WHO_message</th>\n",
              "      <th>concerned_individuals</th>\n",
              "      <th>cleaned_message</th>\n",
              "    </tr>\n",
              "  </thead>\n",
              "  <tbody>\n",
              "    <tr>\n",
              "      <th>0</th>\n",
              "      <td>COVID-19 has and is likely to affect people f...</td>\n",
              "      <td>General Population</td>\n",
              "      <td>likely affect people many country many geograp...</td>\n",
              "    </tr>\n",
              "    <tr>\n",
              "      <th>1</th>\n",
              "      <td>Do not refer to people with the disease as “C...</td>\n",
              "      <td>General Population</td>\n",
              "      <td>refer people disease case victim family diseas...</td>\n",
              "    </tr>\n",
              "    <tr>\n",
              "      <th>6</th>\n",
              "      <td>Feeling under pressure is a likely experience...</td>\n",
              "      <td>Healthcare Workers</td>\n",
              "      <td>feeling pressure likely experience many collea...</td>\n",
              "    </tr>\n",
              "    <tr>\n",
              "      <th>7</th>\n",
              "      <td>Take care of yourself at this time. Try and u...</td>\n",
              "      <td>Healthcare Workers</td>\n",
              "      <td>take care time try use helpful coping strategy...</td>\n",
              "    </tr>\n",
              "    <tr>\n",
              "      <th>11</th>\n",
              "      <td>Keeping all staff protected from chronic stre...</td>\n",
              "      <td>Team Leaders/Managers in Health Facilities</td>\n",
              "      <td>keeping staff protected chronic stress poor me...</td>\n",
              "    </tr>\n",
              "    <tr>\n",
              "      <th>12</th>\n",
              "      <td>Ensure that good quality communication and ac...</td>\n",
              "      <td>Team Leaders/Managers in Health Facilities</td>\n",
              "      <td>ensure good quality communication accurate inf...</td>\n",
              "    </tr>\n",
              "    <tr>\n",
              "      <th>17</th>\n",
              "      <td>Help children find positive ways to express f...</td>\n",
              "      <td>Carers of Children</td>\n",
              "      <td>help child find positive way express feeling f...</td>\n",
              "    </tr>\n",
              "    <tr>\n",
              "      <th>18</th>\n",
              "      <td>Keep children close to their parents and fami...</td>\n",
              "      <td>Carers of Children</td>\n",
              "      <td>keep child close parent family considered safe...</td>\n",
              "    </tr>\n",
              "    <tr>\n",
              "      <th>21</th>\n",
              "      <td>Older adults, especially in isolation and tho...</td>\n",
              "      <td>Older Adults/People with underlying health con...</td>\n",
              "      <td>older adult especially isolation cognitive dec...</td>\n",
              "    </tr>\n",
              "    <tr>\n",
              "      <th>22</th>\n",
              "      <td>Share simple facts about what is going on and...</td>\n",
              "      <td>Older Adults/People with underlying health con...</td>\n",
              "      <td>share simple fact going give clear information...</td>\n",
              "    </tr>\n",
              "    <tr>\n",
              "      <th>27</th>\n",
              "      <td>Stay connected and maintain your social netwo...</td>\n",
              "      <td>People in isolation</td>\n",
              "      <td>stay connected maintain social network try muc...</td>\n",
              "    </tr>\n",
              "    <tr>\n",
              "      <th>28</th>\n",
              "      <td>During times of stress, pay attention to your...</td>\n",
              "      <td>People in isolation</td>\n",
              "      <td>time stress pay attention need feeling engage ...</td>\n",
              "    </tr>\n",
              "  </tbody>\n",
              "</table>\n",
              "</div>"
            ],
            "text/plain": [
              "                                          WHO_message  ...                                    cleaned_message\n",
              "0    COVID-19 has and is likely to affect people f...  ...  likely affect people many country many geograp...\n",
              "1    Do not refer to people with the disease as “C...  ...  refer people disease case victim family diseas...\n",
              "6    Feeling under pressure is a likely experience...  ...  feeling pressure likely experience many collea...\n",
              "7    Take care of yourself at this time. Try and u...  ...  take care time try use helpful coping strategy...\n",
              "11   Keeping all staff protected from chronic stre...  ...  keeping staff protected chronic stress poor me...\n",
              "12   Ensure that good quality communication and ac...  ...  ensure good quality communication accurate inf...\n",
              "17   Help children find positive ways to express f...  ...  help child find positive way express feeling f...\n",
              "18   Keep children close to their parents and fami...  ...  keep child close parent family considered safe...\n",
              "21   Older adults, especially in isolation and tho...  ...  older adult especially isolation cognitive dec...\n",
              "22   Share simple facts about what is going on and...  ...  share simple fact going give clear information...\n",
              "27   Stay connected and maintain your social netwo...  ...  stay connected maintain social network try muc...\n",
              "28   During times of stress, pay attention to your...  ...  time stress pay attention need feeling engage ...\n",
              "\n",
              "[12 rows x 3 columns]"
            ]
          },
          "metadata": {
            "tags": []
          },
          "execution_count": 147
        }
      ]
    },
    {
      "cell_type": "code",
      "metadata": {
        "id": "CzhOB9Ff8RX2",
        "colab_type": "code",
        "outputId": "dba8743c-9cf1-4b90-a3f9-d6e2ea40b67a",
        "colab": {
          "base_uri": "https://localhost:8080/",
          "height": 195
        }
      },
      "source": [
        "from gensim.summarization import summarize, keywords\n",
        "\n",
        "pdf_data['keywords'] = pdf_data['cleaned_message'].apply(lambda x : re.sub(r'\\n', ', ', keywords(x, words = 3)))\n",
        "pdf_data.head()"
      ],
      "execution_count": 0,
      "outputs": [
        {
          "output_type": "execute_result",
          "data": {
            "text/html": [
              "<div>\n",
              "<style scoped>\n",
              "    .dataframe tbody tr th:only-of-type {\n",
              "        vertical-align: middle;\n",
              "    }\n",
              "\n",
              "    .dataframe tbody tr th {\n",
              "        vertical-align: top;\n",
              "    }\n",
              "\n",
              "    .dataframe thead th {\n",
              "        text-align: right;\n",
              "    }\n",
              "</style>\n",
              "<table border=\"1\" class=\"dataframe\">\n",
              "  <thead>\n",
              "    <tr style=\"text-align: right;\">\n",
              "      <th></th>\n",
              "      <th>WHO_message</th>\n",
              "      <th>concerned_individuals</th>\n",
              "      <th>cleaned_message</th>\n",
              "      <th>keywords</th>\n",
              "    </tr>\n",
              "  </thead>\n",
              "  <tbody>\n",
              "    <tr>\n",
              "      <th>0</th>\n",
              "      <td>COVID-19 has and is likely to affect people f...</td>\n",
              "      <td>General Population</td>\n",
              "      <td>likely affect people many country many geograp...</td>\n",
              "      <td>affected, affect people, deserve</td>\n",
              "    </tr>\n",
              "    <tr>\n",
              "      <th>1</th>\n",
              "      <td>Do not refer to people with the disease as “C...</td>\n",
              "      <td>General Population</td>\n",
              "      <td>refer people disease case victim family diseas...</td>\n",
              "      <td>family, people, separate</td>\n",
              "    </tr>\n",
              "    <tr>\n",
              "      <th>2</th>\n",
              "      <td>Minimize watching, reading or listening to ne...</td>\n",
              "      <td>General Population</td>\n",
              "      <td>minimize watching reading listening news cause...</td>\n",
              "      <td>information, news, help</td>\n",
              "    </tr>\n",
              "    <tr>\n",
              "      <th>3</th>\n",
              "      <td>Protect yourself and be supportive to others....</td>\n",
              "      <td>General Population</td>\n",
              "      <td>protect supportive others assisting others tim...</td>\n",
              "      <td>need, supportive, support, solidarity</td>\n",
              "    </tr>\n",
              "    <tr>\n",
              "      <th>4</th>\n",
              "      <td>Find opportunities to amplify positive and ho...</td>\n",
              "      <td>General Population</td>\n",
              "      <td>find opportunity amplify positive hopeful stor...</td>\n",
              "      <td>people, positive, story</td>\n",
              "    </tr>\n",
              "  </tbody>\n",
              "</table>\n",
              "</div>"
            ],
            "text/plain": [
              "                                         WHO_message  ...                               keywords\n",
              "0   COVID-19 has and is likely to affect people f...  ...       affected, affect people, deserve\n",
              "1   Do not refer to people with the disease as “C...  ...               family, people, separate\n",
              "2   Minimize watching, reading or listening to ne...  ...                information, news, help\n",
              "3   Protect yourself and be supportive to others....  ...  need, supportive, support, solidarity\n",
              "4   Find opportunities to amplify positive and ho...  ...                people, positive, story\n",
              "\n",
              "[5 rows x 4 columns]"
            ]
          },
          "metadata": {
            "tags": []
          },
          "execution_count": 148
        }
      ]
    },
    {
      "cell_type": "code",
      "metadata": {
        "id": "lDF-uECY0Blm",
        "colab_type": "code",
        "colab": {}
      },
      "source": [
        "group1_data = grouped_pdf_data.get_group('Carers of Children')\n",
        "group2_data = grouped_pdf_data.get_group('General Population')\n",
        "group3_data = grouped_pdf_data.get_group('Healthcare Workers')\n",
        "group4_data = grouped_pdf_data.get_group('Older Adults/People with underlying health conditions/Carers')\n",
        "group5_data = grouped_pdf_data.get_group('People in isolation')\n",
        "group6_data = grouped_pdf_data.get_group('Team Leaders/Managers in Health Facilities')"
      ],
      "execution_count": 0,
      "outputs": []
    },
    {
      "cell_type": "markdown",
      "metadata": {
        "id": "qvuqWh54bdXi",
        "colab_type": "text"
      },
      "source": [
        "### Data Exploration"
      ]
    },
    {
      "cell_type": "markdown",
      "metadata": {
        "id": "Q5HJvMWYbhCa",
        "colab_type": "text"
      },
      "source": [
        "##### Most common vocabulary"
      ]
    },
    {
      "cell_type": "code",
      "metadata": {
        "id": "ggWylBOn_MeZ",
        "colab_type": "code",
        "colab": {}
      },
      "source": [
        "from collections import Counter\n",
        "\n",
        "def getMostCommonWords(text):\n",
        "  words = regexp_tokenize(text.lower(), r'[A-Za-z]+')\n",
        "  frequent_words = Counter(words).most_common(5)\n",
        "  return frequent_words\n",
        "\n",
        "def createVocabDf(df):\n",
        "  text = ' '.join(df['cleaned_message'].values)\n",
        "  frequent_words = getMostCommonWords(text)\n",
        "  vocab_df = pd.DataFrame(frequent_words)\n",
        "  vocab_df.columns = ['word', 'count']\n",
        "  return vocab_df"
      ],
      "execution_count": 0,
      "outputs": []
    },
    {
      "cell_type": "code",
      "metadata": {
        "id": "GcXnsfSWCCCo",
        "colab_type": "code",
        "colab": {}
      },
      "source": [
        "group1_vocab = createVocabDf(group1_data)\n",
        "group2_vocab = createVocabDf(group2_data)\n",
        "group3_vocab = createVocabDf(group3_data)\n",
        "group4_vocab = createVocabDf(group4_data)\n",
        "group5_vocab = createVocabDf(group5_data)\n",
        "group6_vocab = createVocabDf(group6_data)"
      ],
      "execution_count": 0,
      "outputs": []
    },
    {
      "cell_type": "code",
      "metadata": {
        "id": "_YD36LP6MzJH",
        "colab_type": "code",
        "outputId": "41043b21-a408-40d7-9245-0280075919f1",
        "colab": {
          "base_uri": "https://localhost:8080/",
          "height": 542
        }
      },
      "source": [
        "from plotly.subplots import make_subplots\n",
        "import plotly.graph_objects as go\n",
        "\n",
        "fig = make_subplots(rows = 2, cols = 3, shared_yaxes = True, subplot_titles = ('Carers of Children', 'General Population', 'Healthcare Workers', \n",
        "                                                                               'Older Adults/People with health conditions/Carers', \n",
        "                                                                               'People in isolation', 'Team Leaders/Managers in Health Facilities'))\n",
        "\n",
        "fig.add_trace(go.Bar(x = group1_vocab['word'], y = group1_vocab['count'], name = 'Carers of Children'), row = 1, col = 1)\n",
        "fig.add_trace(go.Bar(x = group2_vocab['word'], y = group2_vocab['count'], name = 'General Population'), row = 1, col = 2)\n",
        "fig.add_trace(go.Bar(x = group3_vocab['word'], y = group3_vocab['count'], name = 'Healthcare Workers'), row = 1, col = 3)\n",
        "fig.add_trace(go.Bar(x = group4_vocab['word'], y = group4_vocab['count'], name = 'Older Adults'), row = 2, col = 1)\n",
        "fig.add_trace(go.Bar(x = group5_vocab['word'], y = group5_vocab['count'], name = 'People in isolation'), row = 2, col = 2)\n",
        "fig.add_trace(go.Bar(x = group6_vocab['word'], y = group6_vocab['count'], name = 'Team Leaders'), row = 2, col = 3)\n",
        "fig.update_layout(title_text=\"Most commonly used words in the WHO guidelines\")\n",
        "fig.show()"
      ],
      "execution_count": 0,
      "outputs": [
        {
          "output_type": "display_data",
          "data": {
            "text/html": [
              "<html>\n",
              "<head><meta charset=\"utf-8\" /></head>\n",
              "<body>\n",
              "    <div>\n",
              "            <script src=\"https://cdnjs.cloudflare.com/ajax/libs/mathjax/2.7.5/MathJax.js?config=TeX-AMS-MML_SVG\"></script><script type=\"text/javascript\">if (window.MathJax) {MathJax.Hub.Config({SVG: {font: \"STIX-Web\"}});}</script>\n",
              "                <script type=\"text/javascript\">window.PlotlyConfig = {MathJaxConfig: 'local'};</script>\n",
              "        <script src=\"https://cdn.plot.ly/plotly-latest.min.js\"></script>    \n",
              "            <div id=\"05aec8e4-31b5-4c5c-95fd-b92aedfdc8ca\" class=\"plotly-graph-div\" style=\"height:525px; width:100%;\"></div>\n",
              "            <script type=\"text/javascript\">\n",
              "                \n",
              "                    window.PLOTLYENV=window.PLOTLYENV || {};\n",
              "                    \n",
              "                if (document.getElementById(\"05aec8e4-31b5-4c5c-95fd-b92aedfdc8ca\")) {\n",
              "                    Plotly.newPlot(\n",
              "                        '05aec8e4-31b5-4c5c-95fd-b92aedfdc8ca',\n",
              "                        [{\"name\": \"Carers of Children\", \"type\": \"bar\", \"x\": [\"child\", \"appropriate\", \"way\", \"emotion\", \"activity\"], \"xaxis\": \"x\", \"y\": [14, 4, 3, 3, 3], \"yaxis\": \"y\"}, {\"name\": \"General Population\", \"type\": \"bar\", \"x\": [\"people\", \"one\", \"loved\", \"affected\", \"information\"], \"xaxis\": \"x2\", \"y\": [11, 5, 4, 3, 3], \"yaxis\": \"y2\"}, {\"name\": \"Healthcare Workers\", \"type\": \"bar\", \"x\": [\"health\", \"mental\", \"use\", \"support\", \"feeling\"], \"xaxis\": \"x3\", \"y\": [7, 6, 4, 4, 3], \"yaxis\": \"y3\"}, {\"name\": \"Older Adults\", \"type\": \"bar\", \"x\": [\"information\", \"regular\", \"isolation\", \"may\", \"people\"], \"xaxis\": \"x4\", \"y\": [4, 4, 3, 3, 3], \"yaxis\": \"y4\"}, {\"name\": \"People in isolation\", \"type\": \"bar\", \"x\": [\"social\", \"stay\", \"keep\", \"routine\", \"health\"], \"xaxis\": \"x5\", \"y\": [4, 3, 3, 3, 3], \"yaxis\": \"y5\"}, {\"name\": \"Team Leaders\", \"type\": \"bar\", \"x\": [\"staff\", \"stress\", \"health\", \"mental\", \"ensure\"], \"xaxis\": \"x6\", \"y\": [6, 6, 6, 5, 5], \"yaxis\": \"y6\"}],\n",
              "                        {\"annotations\": [{\"font\": {\"size\": 16}, \"showarrow\": false, \"text\": \"Carers of Children\", \"x\": 0.14444444444444446, \"xanchor\": \"center\", \"xref\": \"paper\", \"y\": 1.0, \"yanchor\": \"bottom\", \"yref\": \"paper\"}, {\"font\": {\"size\": 16}, \"showarrow\": false, \"text\": \"General Population\", \"x\": 0.5, \"xanchor\": \"center\", \"xref\": \"paper\", \"y\": 1.0, \"yanchor\": \"bottom\", \"yref\": \"paper\"}, {\"font\": {\"size\": 16}, \"showarrow\": false, \"text\": \"Healthcare Workers\", \"x\": 0.8555555555555556, \"xanchor\": \"center\", \"xref\": \"paper\", \"y\": 1.0, \"yanchor\": \"bottom\", \"yref\": \"paper\"}, {\"font\": {\"size\": 16}, \"showarrow\": false, \"text\": \"Older Adults/People with health conditions/Carers\", \"x\": 0.14444444444444446, \"xanchor\": \"center\", \"xref\": \"paper\", \"y\": 0.375, \"yanchor\": \"bottom\", \"yref\": \"paper\"}, {\"font\": {\"size\": 16}, \"showarrow\": false, \"text\": \"People in isolation\", \"x\": 0.5, \"xanchor\": \"center\", \"xref\": \"paper\", \"y\": 0.375, \"yanchor\": \"bottom\", \"yref\": \"paper\"}, {\"font\": {\"size\": 16}, \"showarrow\": false, \"text\": \"Team Leaders/Managers in Health Facilities\", \"x\": 0.8555555555555556, \"xanchor\": \"center\", \"xref\": \"paper\", \"y\": 0.375, \"yanchor\": \"bottom\", \"yref\": \"paper\"}], \"template\": {\"data\": {\"bar\": [{\"error_x\": {\"color\": \"#2a3f5f\"}, \"error_y\": {\"color\": \"#2a3f5f\"}, \"marker\": {\"line\": {\"color\": \"#E5ECF6\", \"width\": 0.5}}, \"type\": \"bar\"}], \"barpolar\": [{\"marker\": {\"line\": {\"color\": \"#E5ECF6\", \"width\": 0.5}}, \"type\": \"barpolar\"}], \"carpet\": [{\"aaxis\": {\"endlinecolor\": \"#2a3f5f\", \"gridcolor\": \"white\", \"linecolor\": \"white\", \"minorgridcolor\": \"white\", \"startlinecolor\": \"#2a3f5f\"}, \"baxis\": {\"endlinecolor\": \"#2a3f5f\", \"gridcolor\": \"white\", \"linecolor\": \"white\", \"minorgridcolor\": \"white\", \"startlinecolor\": \"#2a3f5f\"}, \"type\": \"carpet\"}], \"choropleth\": [{\"colorbar\": {\"outlinewidth\": 0, \"ticks\": \"\"}, \"type\": \"choropleth\"}], \"contour\": [{\"colorbar\": {\"outlinewidth\": 0, \"ticks\": \"\"}, \"colorscale\": [[0.0, \"#0d0887\"], [0.1111111111111111, \"#46039f\"], [0.2222222222222222, \"#7201a8\"], [0.3333333333333333, \"#9c179e\"], [0.4444444444444444, \"#bd3786\"], [0.5555555555555556, \"#d8576b\"], [0.6666666666666666, \"#ed7953\"], [0.7777777777777778, \"#fb9f3a\"], [0.8888888888888888, \"#fdca26\"], [1.0, \"#f0f921\"]], \"type\": \"contour\"}], \"contourcarpet\": [{\"colorbar\": {\"outlinewidth\": 0, \"ticks\": \"\"}, \"type\": \"contourcarpet\"}], \"heatmap\": [{\"colorbar\": {\"outlinewidth\": 0, \"ticks\": \"\"}, \"colorscale\": [[0.0, \"#0d0887\"], [0.1111111111111111, \"#46039f\"], [0.2222222222222222, \"#7201a8\"], [0.3333333333333333, \"#9c179e\"], [0.4444444444444444, \"#bd3786\"], [0.5555555555555556, \"#d8576b\"], [0.6666666666666666, \"#ed7953\"], [0.7777777777777778, \"#fb9f3a\"], [0.8888888888888888, \"#fdca26\"], [1.0, \"#f0f921\"]], \"type\": \"heatmap\"}], \"heatmapgl\": [{\"colorbar\": {\"outlinewidth\": 0, \"ticks\": \"\"}, \"colorscale\": [[0.0, \"#0d0887\"], [0.1111111111111111, \"#46039f\"], [0.2222222222222222, \"#7201a8\"], [0.3333333333333333, \"#9c179e\"], [0.4444444444444444, \"#bd3786\"], [0.5555555555555556, \"#d8576b\"], [0.6666666666666666, \"#ed7953\"], [0.7777777777777778, \"#fb9f3a\"], [0.8888888888888888, \"#fdca26\"], [1.0, \"#f0f921\"]], \"type\": \"heatmapgl\"}], \"histogram\": [{\"marker\": {\"colorbar\": {\"outlinewidth\": 0, \"ticks\": \"\"}}, \"type\": \"histogram\"}], \"histogram2d\": [{\"colorbar\": {\"outlinewidth\": 0, \"ticks\": \"\"}, \"colorscale\": [[0.0, \"#0d0887\"], [0.1111111111111111, \"#46039f\"], [0.2222222222222222, \"#7201a8\"], [0.3333333333333333, \"#9c179e\"], [0.4444444444444444, \"#bd3786\"], [0.5555555555555556, \"#d8576b\"], [0.6666666666666666, \"#ed7953\"], [0.7777777777777778, \"#fb9f3a\"], [0.8888888888888888, \"#fdca26\"], [1.0, \"#f0f921\"]], \"type\": \"histogram2d\"}], \"histogram2dcontour\": [{\"colorbar\": {\"outlinewidth\": 0, \"ticks\": \"\"}, \"colorscale\": [[0.0, \"#0d0887\"], [0.1111111111111111, \"#46039f\"], [0.2222222222222222, \"#7201a8\"], [0.3333333333333333, \"#9c179e\"], [0.4444444444444444, \"#bd3786\"], [0.5555555555555556, \"#d8576b\"], [0.6666666666666666, \"#ed7953\"], [0.7777777777777778, \"#fb9f3a\"], [0.8888888888888888, \"#fdca26\"], [1.0, \"#f0f921\"]], \"type\": \"histogram2dcontour\"}], \"mesh3d\": [{\"colorbar\": {\"outlinewidth\": 0, \"ticks\": \"\"}, \"type\": \"mesh3d\"}], \"parcoords\": [{\"line\": {\"colorbar\": {\"outlinewidth\": 0, \"ticks\": \"\"}}, \"type\": \"parcoords\"}], \"pie\": [{\"automargin\": true, \"type\": \"pie\"}], \"scatter\": [{\"marker\": {\"colorbar\": {\"outlinewidth\": 0, \"ticks\": \"\"}}, \"type\": \"scatter\"}], \"scatter3d\": [{\"line\": {\"colorbar\": {\"outlinewidth\": 0, \"ticks\": \"\"}}, \"marker\": {\"colorbar\": {\"outlinewidth\": 0, \"ticks\": \"\"}}, \"type\": \"scatter3d\"}], \"scattercarpet\": [{\"marker\": {\"colorbar\": {\"outlinewidth\": 0, \"ticks\": \"\"}}, \"type\": \"scattercarpet\"}], \"scattergeo\": [{\"marker\": {\"colorbar\": {\"outlinewidth\": 0, \"ticks\": \"\"}}, \"type\": \"scattergeo\"}], \"scattergl\": [{\"marker\": {\"colorbar\": {\"outlinewidth\": 0, \"ticks\": \"\"}}, \"type\": \"scattergl\"}], \"scattermapbox\": [{\"marker\": {\"colorbar\": {\"outlinewidth\": 0, \"ticks\": \"\"}}, \"type\": \"scattermapbox\"}], \"scatterpolar\": [{\"marker\": {\"colorbar\": {\"outlinewidth\": 0, \"ticks\": \"\"}}, \"type\": \"scatterpolar\"}], \"scatterpolargl\": [{\"marker\": {\"colorbar\": {\"outlinewidth\": 0, \"ticks\": \"\"}}, \"type\": \"scatterpolargl\"}], \"scatterternary\": [{\"marker\": {\"colorbar\": {\"outlinewidth\": 0, \"ticks\": \"\"}}, \"type\": \"scatterternary\"}], \"surface\": [{\"colorbar\": {\"outlinewidth\": 0, \"ticks\": \"\"}, \"colorscale\": [[0.0, \"#0d0887\"], [0.1111111111111111, \"#46039f\"], [0.2222222222222222, \"#7201a8\"], [0.3333333333333333, \"#9c179e\"], [0.4444444444444444, \"#bd3786\"], [0.5555555555555556, \"#d8576b\"], [0.6666666666666666, \"#ed7953\"], [0.7777777777777778, \"#fb9f3a\"], [0.8888888888888888, \"#fdca26\"], [1.0, \"#f0f921\"]], \"type\": \"surface\"}], \"table\": [{\"cells\": {\"fill\": {\"color\": \"#EBF0F8\"}, \"line\": {\"color\": \"white\"}}, \"header\": {\"fill\": {\"color\": \"#C8D4E3\"}, \"line\": {\"color\": \"white\"}}, \"type\": \"table\"}]}, \"layout\": {\"annotationdefaults\": {\"arrowcolor\": \"#2a3f5f\", \"arrowhead\": 0, \"arrowwidth\": 1}, \"coloraxis\": {\"colorbar\": {\"outlinewidth\": 0, \"ticks\": \"\"}}, \"colorscale\": {\"diverging\": [[0, \"#8e0152\"], [0.1, \"#c51b7d\"], [0.2, \"#de77ae\"], [0.3, \"#f1b6da\"], [0.4, \"#fde0ef\"], [0.5, \"#f7f7f7\"], [0.6, \"#e6f5d0\"], [0.7, \"#b8e186\"], [0.8, \"#7fbc41\"], [0.9, \"#4d9221\"], [1, \"#276419\"]], \"sequential\": [[0.0, \"#0d0887\"], [0.1111111111111111, \"#46039f\"], [0.2222222222222222, \"#7201a8\"], [0.3333333333333333, \"#9c179e\"], [0.4444444444444444, \"#bd3786\"], [0.5555555555555556, \"#d8576b\"], [0.6666666666666666, \"#ed7953\"], [0.7777777777777778, \"#fb9f3a\"], [0.8888888888888888, \"#fdca26\"], [1.0, \"#f0f921\"]], \"sequentialminus\": [[0.0, \"#0d0887\"], [0.1111111111111111, \"#46039f\"], [0.2222222222222222, \"#7201a8\"], [0.3333333333333333, \"#9c179e\"], [0.4444444444444444, \"#bd3786\"], [0.5555555555555556, \"#d8576b\"], [0.6666666666666666, \"#ed7953\"], [0.7777777777777778, \"#fb9f3a\"], [0.8888888888888888, \"#fdca26\"], [1.0, \"#f0f921\"]]}, \"colorway\": [\"#636efa\", \"#EF553B\", \"#00cc96\", \"#ab63fa\", \"#FFA15A\", \"#19d3f3\", \"#FF6692\", \"#B6E880\", \"#FF97FF\", \"#FECB52\"], \"font\": {\"color\": \"#2a3f5f\"}, \"geo\": {\"bgcolor\": \"white\", \"lakecolor\": \"white\", \"landcolor\": \"#E5ECF6\", \"showlakes\": true, \"showland\": true, \"subunitcolor\": \"white\"}, \"hoverlabel\": {\"align\": \"left\"}, \"hovermode\": \"closest\", \"mapbox\": {\"style\": \"light\"}, \"paper_bgcolor\": \"white\", \"plot_bgcolor\": \"#E5ECF6\", \"polar\": {\"angularaxis\": {\"gridcolor\": \"white\", \"linecolor\": \"white\", \"ticks\": \"\"}, \"bgcolor\": \"#E5ECF6\", \"radialaxis\": {\"gridcolor\": \"white\", \"linecolor\": \"white\", \"ticks\": \"\"}}, \"scene\": {\"xaxis\": {\"backgroundcolor\": \"#E5ECF6\", \"gridcolor\": \"white\", \"gridwidth\": 2, \"linecolor\": \"white\", \"showbackground\": true, \"ticks\": \"\", \"zerolinecolor\": \"white\"}, \"yaxis\": {\"backgroundcolor\": \"#E5ECF6\", \"gridcolor\": \"white\", \"gridwidth\": 2, \"linecolor\": \"white\", \"showbackground\": true, \"ticks\": \"\", \"zerolinecolor\": \"white\"}, \"zaxis\": {\"backgroundcolor\": \"#E5ECF6\", \"gridcolor\": \"white\", \"gridwidth\": 2, \"linecolor\": \"white\", \"showbackground\": true, \"ticks\": \"\", \"zerolinecolor\": \"white\"}}, \"shapedefaults\": {\"line\": {\"color\": \"#2a3f5f\"}}, \"ternary\": {\"aaxis\": {\"gridcolor\": \"white\", \"linecolor\": \"white\", \"ticks\": \"\"}, \"baxis\": {\"gridcolor\": \"white\", \"linecolor\": \"white\", \"ticks\": \"\"}, \"bgcolor\": \"#E5ECF6\", \"caxis\": {\"gridcolor\": \"white\", \"linecolor\": \"white\", \"ticks\": \"\"}}, \"title\": {\"x\": 0.05}, \"xaxis\": {\"automargin\": true, \"gridcolor\": \"white\", \"linecolor\": \"white\", \"ticks\": \"\", \"title\": {\"standoff\": 15}, \"zerolinecolor\": \"white\", \"zerolinewidth\": 2}, \"yaxis\": {\"automargin\": true, \"gridcolor\": \"white\", \"linecolor\": \"white\", \"ticks\": \"\", \"title\": {\"standoff\": 15}, \"zerolinecolor\": \"white\", \"zerolinewidth\": 2}}}, \"title\": {\"text\": \"Most commonly used words in the WHO guidelines\"}, \"xaxis\": {\"anchor\": \"y\", \"domain\": [0.0, 0.2888888888888889]}, \"xaxis2\": {\"anchor\": \"y2\", \"domain\": [0.35555555555555557, 0.6444444444444445]}, \"xaxis3\": {\"anchor\": \"y3\", \"domain\": [0.7111111111111111, 1.0]}, \"xaxis4\": {\"anchor\": \"y4\", \"domain\": [0.0, 0.2888888888888889]}, \"xaxis5\": {\"anchor\": \"y5\", \"domain\": [0.35555555555555557, 0.6444444444444445]}, \"xaxis6\": {\"anchor\": \"y6\", \"domain\": [0.7111111111111111, 1.0]}, \"yaxis\": {\"anchor\": \"x\", \"domain\": [0.625, 1.0]}, \"yaxis2\": {\"anchor\": \"x2\", \"domain\": [0.625, 1.0], \"matches\": \"y\", \"showticklabels\": false}, \"yaxis3\": {\"anchor\": \"x3\", \"domain\": [0.625, 1.0], \"matches\": \"y\", \"showticklabels\": false}, \"yaxis4\": {\"anchor\": \"x4\", \"domain\": [0.0, 0.375]}, \"yaxis5\": {\"anchor\": \"x5\", \"domain\": [0.0, 0.375], \"matches\": \"y4\", \"showticklabels\": false}, \"yaxis6\": {\"anchor\": \"x6\", \"domain\": [0.0, 0.375], \"matches\": \"y4\", \"showticklabels\": false}},\n",
              "                        {\"responsive\": true}\n",
              "                    ).then(function(){\n",
              "                            \n",
              "var gd = document.getElementById('05aec8e4-31b5-4c5c-95fd-b92aedfdc8ca');\n",
              "var x = new MutationObserver(function (mutations, observer) {{\n",
              "        var display = window.getComputedStyle(gd).display;\n",
              "        if (!display || display === 'none') {{\n",
              "            console.log([gd, 'removed!']);\n",
              "            Plotly.purge(gd);\n",
              "            observer.disconnect();\n",
              "        }}\n",
              "}});\n",
              "\n",
              "// Listen for the removal of the full notebook cells\n",
              "var notebookContainer = gd.closest('#notebook-container');\n",
              "if (notebookContainer) {{\n",
              "    x.observe(notebookContainer, {childList: true});\n",
              "}}\n",
              "\n",
              "// Listen for the clearing of the current output cell\n",
              "var outputEl = gd.closest('.output');\n",
              "if (outputEl) {{\n",
              "    x.observe(outputEl, {childList: true});\n",
              "}}\n",
              "\n",
              "                        })\n",
              "                };\n",
              "                \n",
              "            </script>\n",
              "        </div>\n",
              "</body>\n",
              "</html>"
            ]
          },
          "metadata": {
            "tags": []
          }
        }
      ]
    },
    {
      "cell_type": "markdown",
      "metadata": {
        "id": "7tvk-tT8bpUn",
        "colab_type": "text"
      },
      "source": [
        "##### Topic Modelling"
      ]
    },
    {
      "cell_type": "code",
      "metadata": {
        "id": "yPE4IHGwTKNc",
        "colab_type": "code",
        "colab": {}
      },
      "source": [
        "from sklearn.feature_extraction.text import TfidfVectorizer\n",
        "from sklearn.decomposition import LatentDirichletAllocation as LDA\n",
        "\n",
        "vector = TfidfVectorizer()\n",
        "\n",
        "def extractTopics(tfidf):\n",
        "  list_of_topics = []\n",
        "  model = LDA(n_components = 3).fit(tfidf)\n",
        "  terms = vector.get_feature_names()\n",
        "  for i, comp in enumerate(model.components_):\n",
        "    terms_comp = zip(terms, comp)\n",
        "    sorted_terms = sorted(terms_comp, key = lambda x:x[1], reverse = True)[:4]\n",
        "    topics = ' '.join([w[0] for w in sorted_terms])\n",
        "    list_of_topics.append(topics)\n",
        "  return list_of_topics"
      ],
      "execution_count": 0,
      "outputs": []
    },
    {
      "cell_type": "code",
      "metadata": {
        "id": "Hv1Mtfvpcs8Q",
        "colab_type": "code",
        "outputId": "1ea62635-1d21-477f-a6ef-1823792c298c",
        "colab": {
          "base_uri": "https://localhost:8080/",
          "height": 319
        }
      },
      "source": [
        "for group in grouped_pdf_data.groups.keys():\n",
        "  df = grouped_pdf_data.get_group(group)\n",
        "  list_of_messages = df['cleaned_message'].tolist()\n",
        "  tfidf = vector.fit_transform(list_of_messages)\n",
        "  representative_topics = ', '.join(extractTopics(tfidf))\n",
        "\n",
        "  print('The representative topics in the guidelines for', '\\033[3m', '%s'%group, '\\033[0m', 'are:')\n",
        "  print('\\033[1m', representative_topics, '\\033[0m', '\\n')"
      ],
      "execution_count": 0,
      "outputs": [
        {
          "output_type": "stream",
          "text": [
            "The representative topics in the guidelines for \u001b[3m Carers of Children \u001b[0m are:\n",
            "\u001b[1m express feeling way child, child possible social routine, child adult time emotion \u001b[0m \n",
            "\n",
            "The representative topics in the guidelines for \u001b[3m General Population \u001b[0m are:\n",
            "\u001b[1m people healthcare worker positive, need others together community, country many fact information \u001b[0m \n",
            "\n",
            "The representative topics in the guidelines for \u001b[3m Healthcare Workers \u001b[0m are:\n",
            "\u001b[1m strategy coping sufficient using, health support may mental, feeling managing psychosocial way \u001b[0m \n",
            "\n",
            "The representative topics in the guidelines for \u001b[3m Older Adults/People with underlying health conditions/Carers \u001b[0m are:\n",
            "\u001b[1m quarantine isolation daily health, information make needed sure, regular keep new one \u001b[0m \n",
            "\n",
            "The representative topics in the guidelines for \u001b[3m People in isolation \u001b[0m are:\n",
            "\u001b[1m feel guidance information stigma, keep routine social healthy, stay social health find \u001b[0m \n",
            "\n",
            "The representative topics in the guidelines for \u001b[3m Team Leaders/Managers in Health Facilities \u001b[0m are:\n",
            "\u001b[1m general healthcare capacity provide, stress ensure term manager, people capacity mental health \u001b[0m \n",
            "\n"
          ],
          "name": "stdout"
        }
      ]
    }
  ]
}